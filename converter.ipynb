{
 "cells": [
  {
   "cell_type": "code",
   "execution_count": 1,
   "metadata": {},
   "outputs": [],
   "source": [
    "import os\n",
    "import shutil\n",
    "\n",
    "def convert_move_to_md(file_path, output_path):\n",
    "    with open(file_path, 'r') as input_file:\n",
    "        content = input_file.read()\n",
    "\n",
    "    # Apply any necessary conversion logic for .move to markdown format here\n",
    "    md_content = content\n",
    "\n",
    "    with open(output_path, 'w') as output_file:\n",
    "        output_file.write(md_content)\n",
    "\n",
    "\n",
    "def copy_md_file(src_path, dst_path):\n",
    "    shutil.copy(src_path, dst_path)\n",
    "\n",
    "def process_directory(src_dir, dst_dir):\n",
    "    for root, _, files in os.walk(src_dir):\n",
    "        relative_path = os.path.relpath(root, src_dir)\n",
    "        output_root = os.path.join(dst_dir, relative_path)\n",
    "\n",
    "        if not os.path.exists(output_root):\n",
    "            os.makedirs(output_root)\n",
    "\n",
    "        for file in files:\n",
    "            if file.endswith('.move'):\n",
    "                input_file_path = os.path.join(root, file)\n",
    "                output_file_path = os.path.join(output_root, file[:-5] + '.md')\n",
    "                convert_move_to_md(input_file_path, output_file_path)\n",
    "            elif file.endswith('.md'):\n",
    "                input_file_path = os.path.join(root, file)\n",
    "                output_file_path = os.path.join(output_root, file)\n",
    "                copy_md_file(input_file_path, output_file_path)\n",
    "\n",
    "def main():\n",
    "    input_dir = './move-files'\n",
    "    output_dir = './training'\n",
    "\n",
    "    if not os.path.exists(output_dir):\n",
    "        os.makedirs(output_dir)\n",
    "\n",
    "    process_directory(input_dir, output_dir)\n",
    "\n",
    "\n",
    "main()"
   ]
  }
 ],
 "metadata": {
  "kernelspec": {
   "display_name": "Python 3.8.10 64-bit",
   "language": "python",
   "name": "python3"
  },
  "language_info": {
   "codemirror_mode": {
    "name": "ipython",
    "version": 3
   },
   "file_extension": ".py",
   "mimetype": "text/x-python",
   "name": "python",
   "nbconvert_exporter": "python",
   "pygments_lexer": "ipython3",
   "version": "3.8.10"
  },
  "orig_nbformat": 4,
  "vscode": {
   "interpreter": {
    "hash": "916dbcbb3f70747c44a77c7bcd40155683ae19c65e1c03b4aa3499c5328201f1"
   }
  }
 },
 "nbformat": 4,
 "nbformat_minor": 2
}
